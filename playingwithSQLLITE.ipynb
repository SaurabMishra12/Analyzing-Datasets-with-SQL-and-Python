{
 "cells": [
  {
   "cell_type": "code",
   "execution_count": 5,
   "id": "initial_id",
   "metadata": {
    "collapsed": true,
    "ExecuteTime": {
     "end_time": "2024-05-07T04:19:51.231567500Z",
     "start_time": "2024-05-07T04:19:51.198477400Z"
    }
   },
   "outputs": [],
   "source": [
    "import sqlite3"
   ]
  },
  {
   "cell_type": "code",
   "outputs": [],
   "source": [
    "conn = sqlite3.connect('INSTRUCTOR.db')"
   ],
   "metadata": {
    "collapsed": false,
    "ExecuteTime": {
     "end_time": "2024-05-07T04:19:51.623853800Z",
     "start_time": "2024-05-07T04:19:51.618489200Z"
    }
   },
   "id": "38553feb3b5bca0d",
   "execution_count": 6
  },
  {
   "cell_type": "code",
   "outputs": [],
   "source": [
    "cursor_obj = conn.cursor()"
   ],
   "metadata": {
    "collapsed": false,
    "ExecuteTime": {
     "end_time": "2024-05-07T04:20:09.203603900Z",
     "start_time": "2024-05-07T04:20:09.190060800Z"
    }
   },
   "id": "db95b3173c039f99",
   "execution_count": 7
  },
  {
   "cell_type": "code",
   "outputs": [
    {
     "data": {
      "text/plain": "<sqlite3.Cursor at 0x1eea15346c0>"
     },
     "execution_count": 9,
     "metadata": {},
     "output_type": "execute_result"
    }
   ],
   "source": [
    "cursor_obj.execute(\"DROP TABLE IF EXISTS INSTRUCTOR\")"
   ],
   "metadata": {
    "collapsed": false,
    "ExecuteTime": {
     "end_time": "2024-05-07T12:01:49.974592300Z",
     "start_time": "2024-05-07T12:01:49.944996200Z"
    }
   },
   "id": "28759585ac8aec9f",
   "execution_count": 9
  },
  {
   "cell_type": "code",
   "outputs": [
    {
     "name": "stdout",
     "output_type": "stream",
     "text": [
      "Table is Ready\n"
     ]
    }
   ],
   "source": [
    "table = \"\"\" create table IF NOT EXISTS INSTRUCTOR(ID INTEGER PRIMARY KEY NOT NULL, FNAME VARCHAR(20), LNAME VARCHAR(20), CITY VARCHAR(20), CCODE CHAR(2));\"\"\"\n",
    " \n",
    "cursor_obj.execute(table)\n",
    " \n",
    "print(\"Table is Ready\")"
   ],
   "metadata": {
    "collapsed": false,
    "ExecuteTime": {
     "end_time": "2024-05-07T12:03:34.600711100Z",
     "start_time": "2024-05-07T12:03:34.578473500Z"
    }
   },
   "id": "607afc88ca871c39",
   "execution_count": 10
  },
  {
   "cell_type": "code",
   "outputs": [
    {
     "data": {
      "text/plain": "<sqlite3.Cursor at 0x1eea15346c0>"
     },
     "execution_count": 11,
     "metadata": {},
     "output_type": "execute_result"
    }
   ],
   "source": [
    "cursor_obj.execute('''insert into INSTRUCTOR values (1, 'Rav' , 'Ahuja', 'TORONTO', 'CA')''')"
   ],
   "metadata": {
    "collapsed": false,
    "ExecuteTime": {
     "end_time": "2024-05-07T12:27:05.383123500Z",
     "start_time": "2024-05-07T12:27:05.362446900Z"
    }
   },
   "id": "e2693c1be69d81c",
   "execution_count": 11
  },
  {
   "cell_type": "code",
   "outputs": [
    {
     "data": {
      "text/plain": "<sqlite3.Cursor at 0x1eea15346c0>"
     },
     "execution_count": 12,
     "metadata": {},
     "output_type": "execute_result"
    }
   ],
   "source": [
    "cursor_obj.execute('''insert into INSTRUCTOR values (2, 'Raul', 'Chong', 'Markham', 'CA'), (3, 'Hima', 'Vasudevan', 'Chicago', 'US')''')"
   ],
   "metadata": {
    "collapsed": false,
    "ExecuteTime": {
     "end_time": "2024-05-07T12:27:47.450786800Z",
     "start_time": "2024-05-07T12:27:47.428532300Z"
    }
   },
   "id": "f195c24724993683",
   "execution_count": 12
  },
  {
   "cell_type": "code",
   "outputs": [
    {
     "name": "stdout",
     "output_type": "stream",
     "text": [
      "All the data\n",
      "(1, 'Rav', 'Ahuja', 'TORONTO', 'CA')\n",
      "(2, 'Raul', 'Chong', 'Markham', 'CA')\n",
      "(3, 'Hima', 'Vasudevan', 'Chicago', 'US')\n"
     ]
    }
   ],
   "source": [
    "statement= '''SELECT * FROM INSTRUCTOR'''\n",
    "cursor_obj.execute(statement)\n",
    "\n",
    "print(\"All the data\")\n",
    "output_all= cursor_obj.fetchall()\n",
    "for row_all in output_all:\n",
    "    print(row_all)"
   ],
   "metadata": {
    "collapsed": false,
    "ExecuteTime": {
     "end_time": "2024-05-07T12:31:49.780440400Z",
     "start_time": "2024-05-07T12:31:49.759279100Z"
    }
   },
   "id": "f63e282a575bcd96",
   "execution_count": 13
  },
  {
   "cell_type": "code",
   "outputs": [],
   "source": [],
   "metadata": {
    "collapsed": false
   },
   "id": "1964aaf877c37e5"
  },
  {
   "cell_type": "markdown",
   "source": [
    "Fetch only Fname from table"
   ],
   "metadata": {
    "collapsed": false
   },
   "id": "456f5580527fb7e"
  },
  {
   "cell_type": "code",
   "outputs": [
    {
     "name": "stdout",
     "output_type": "stream",
     "text": [
      "all the data\n",
      "('Rav',)\n",
      "('Raul',)\n",
      "('Hima',)\n"
     ]
    }
   ],
   "source": [
    "statement= '''SELECT FNAME FROM INSTRUCTOR'''\n",
    "cursor_obj.execute(statement)\n",
    "\n",
    "print(\"all the data\")\n",
    "output_columns= cursor_obj.fetchall()\n",
    "for fetch in output_columns:\n",
    "    print(fetch)"
   ],
   "metadata": {
    "collapsed": false,
    "ExecuteTime": {
     "end_time": "2024-05-07T12:40:38.127749400Z",
     "start_time": "2024-05-07T12:40:38.107946700Z"
    }
   },
   "id": "ca95b3fb0de4e02c",
   "execution_count": 14
  },
  {
   "cell_type": "code",
   "outputs": [],
   "source": [],
   "metadata": {
    "collapsed": false
   },
   "id": "d66daa9e9e3874c2"
  },
  {
   "cell_type": "markdown",
   "source": [
    "updatin rav's city to KOLKATA"
   ],
   "metadata": {
    "collapsed": false
   },
   "id": "69a2290104ff7c5d"
  },
  {
   "cell_type": "code",
   "outputs": [
    {
     "data": {
      "text/plain": "<sqlite3.Cursor at 0x1eea15346c0>"
     },
     "execution_count": 16,
     "metadata": {},
     "output_type": "execute_result"
    }
   ],
   "source": [
    "query_update= '''UPDATE INSTRUCTOR SET CITY = 'KOLKATA' where FNAME = \"Rav\"'''\n",
    "cursor_obj.execute(query_update)"
   ],
   "metadata": {
    "collapsed": false,
    "ExecuteTime": {
     "end_time": "2024-05-07T12:44:02.941988500Z",
     "start_time": "2024-05-07T12:44:02.884965300Z"
    }
   },
   "id": "5cc05bfea9f40bc7",
   "execution_count": 16
  },
  {
   "cell_type": "code",
   "outputs": [
    {
     "name": "stdout",
     "output_type": "stream",
     "text": [
      "ALL THE DATA\n",
      "(1, 'Rav', 'Ahuja', 'KOLKATA', 'CA')\n",
      "(2, 'Raul', 'Chong', 'Markham', 'CA')\n"
     ]
    }
   ],
   "source": [
    "statement ='''SELECT* FROM INSTRUCTOR'''\n",
    "cursor_obj.execute(statement)\n",
    "\n",
    "print(\"ALL THE DATA\")\n",
    "output1= cursor_obj.fetchmany(2)\n",
    "for row in output1:\n",
    "    print(row)\n",
    "    "
   ],
   "metadata": {
    "collapsed": false,
    "ExecuteTime": {
     "end_time": "2024-05-07T12:46:32.320231400Z",
     "start_time": "2024-05-07T12:46:32.255063400Z"
    }
   },
   "id": "2478e595e6a4f043",
   "execution_count": 17
  },
  {
   "cell_type": "markdown",
   "source": [
    "Retreiving data into pandas"
   ],
   "metadata": {
    "collapsed": false
   },
   "id": "d935921718e274a1"
  },
  {
   "cell_type": "code",
   "outputs": [
    {
     "data": {
      "text/plain": "   ID FNAME      LNAME     CITY CCODE\n0   1   Rav      Ahuja  KOLKATA    CA\n1   2  Raul      Chong  Markham    CA\n2   3  Hima  Vasudevan  Chicago    US",
      "text/html": "<div>\n<style scoped>\n    .dataframe tbody tr th:only-of-type {\n        vertical-align: middle;\n    }\n\n    .dataframe tbody tr th {\n        vertical-align: top;\n    }\n\n    .dataframe thead th {\n        text-align: right;\n    }\n</style>\n<table border=\"1\" class=\"dataframe\">\n  <thead>\n    <tr style=\"text-align: right;\">\n      <th></th>\n      <th>ID</th>\n      <th>FNAME</th>\n      <th>LNAME</th>\n      <th>CITY</th>\n      <th>CCODE</th>\n    </tr>\n  </thead>\n  <tbody>\n    <tr>\n      <th>0</th>\n      <td>1</td>\n      <td>Rav</td>\n      <td>Ahuja</td>\n      <td>KOLKATA</td>\n      <td>CA</td>\n    </tr>\n    <tr>\n      <th>1</th>\n      <td>2</td>\n      <td>Raul</td>\n      <td>Chong</td>\n      <td>Markham</td>\n      <td>CA</td>\n    </tr>\n    <tr>\n      <th>2</th>\n      <td>3</td>\n      <td>Hima</td>\n      <td>Vasudevan</td>\n      <td>Chicago</td>\n      <td>US</td>\n    </tr>\n  </tbody>\n</table>\n</div>"
     },
     "execution_count": 21,
     "metadata": {},
     "output_type": "execute_result"
    }
   ],
   "source": [
    "import pandas as pd\n",
    "df=pd.read_sql_query(\"SELECT * FROM INSTRUCTOR;\",conn)\n",
    "\n",
    "df"
   ],
   "metadata": {
    "collapsed": false,
    "ExecuteTime": {
     "end_time": "2024-05-07T13:07:54.506788600Z",
     "start_time": "2024-05-07T13:07:51.674468100Z"
    }
   },
   "id": "e42655a0b8ba6fe4",
   "execution_count": 21
  },
  {
   "cell_type": "code",
   "outputs": [
    {
     "data": {
      "text/plain": "'Ahuja'"
     },
     "execution_count": 22,
     "metadata": {},
     "output_type": "execute_result"
    }
   ],
   "source": [
    "df.LNAME[0]"
   ],
   "metadata": {
    "collapsed": false,
    "ExecuteTime": {
     "end_time": "2024-05-07T13:07:54.506788600Z",
     "start_time": "2024-05-07T13:07:54.396666400Z"
    }
   },
   "id": "9b61c8b2df10784d",
   "execution_count": 22
  },
  {
   "cell_type": "code",
   "outputs": [
    {
     "data": {
      "text/plain": "(3, 5)"
     },
     "execution_count": 23,
     "metadata": {},
     "output_type": "execute_result"
    }
   ],
   "source": [
    "df.shape"
   ],
   "metadata": {
    "collapsed": false,
    "ExecuteTime": {
     "end_time": "2024-05-07T13:08:00.449658Z",
     "start_time": "2024-05-07T13:08:00.399777500Z"
    }
   },
   "id": "15cec043d554352a",
   "execution_count": 23
  },
  {
   "cell_type": "code",
   "outputs": [],
   "source": [
    "conn.close()"
   ],
   "metadata": {
    "collapsed": false,
    "ExecuteTime": {
     "end_time": "2024-05-07T13:08:27.800731300Z",
     "start_time": "2024-05-07T13:08:27.792458200Z"
    }
   },
   "id": "1e68c06da84d1510",
   "execution_count": 24
  },
  {
   "cell_type": "code",
   "outputs": [],
   "source": [],
   "metadata": {
    "collapsed": false
   },
   "id": "ccac1437611ac61"
  }
 ],
 "metadata": {
  "kernelspec": {
   "display_name": "Python 3",
   "language": "python",
   "name": "python3"
  },
  "language_info": {
   "codemirror_mode": {
    "name": "ipython",
    "version": 2
   },
   "file_extension": ".py",
   "mimetype": "text/x-python",
   "name": "python",
   "nbconvert_exporter": "python",
   "pygments_lexer": "ipython2",
   "version": "2.7.6"
  }
 },
 "nbformat": 4,
 "nbformat_minor": 5
}
