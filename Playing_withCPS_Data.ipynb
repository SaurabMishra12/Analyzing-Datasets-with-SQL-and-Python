{
 "cells": [
  {
   "cell_type": "markdown",
   "source": [
    "Problem Statement\n",
    "\n",
    "Understand the dataset for Chicago Public School level performance\n",
    "Store the dataset in SQLite database.\n",
    "Retrieve metadata about tables and columns and query data from mixed case columns\n",
    "Run SQL queries on real world datasets"
   ],
   "metadata": {
    "collapsed": false
   },
   "id": "31d848e7aa2030c1"
  },
  {
   "cell_type": "code",
   "execution_count": 11,
   "id": "initial_id",
   "metadata": {
    "collapsed": true,
    "ExecuteTime": {
     "end_time": "2024-05-09T12:27:50.282835500Z",
     "start_time": "2024-05-09T12:27:50.262359300Z"
    }
   },
   "outputs": [],
   "source": [
    "import sqlite3,csv,pandas as pd\n",
    "con = sqlite3.connect(\"RealWorldData.db\")\n",
    "cur=con.cursor()"
   ]
  },
  {
   "cell_type": "code",
   "outputs": [],
   "source": [],
   "metadata": {
    "collapsed": false,
    "ExecuteTime": {
     "end_time": "2024-05-09T12:27:51.204745600Z",
     "start_time": "2024-05-09T12:27:51.198733500Z"
    }
   },
   "id": "7c1e2f52d8b3e5ca",
   "execution_count": 11
  },
  {
   "cell_type": "code",
   "outputs": [
    {
     "name": "stdout",
     "output_type": "stream",
     "text": [
      "The sql extension is already loaded. To reload it, use:\n",
      "  %reload_ext sql\n"
     ]
    }
   ],
   "source": [
    "%load_ext sql"
   ],
   "metadata": {
    "collapsed": false,
    "ExecuteTime": {
     "end_time": "2024-05-09T12:27:51.741145600Z",
     "start_time": "2024-05-09T12:27:51.733789200Z"
    }
   },
   "id": "91881d36b0d317cd",
   "execution_count": 12
  },
  {
   "cell_type": "code",
   "outputs": [],
   "source": [
    "%sql sqlite:///RealWorldData.db"
   ],
   "metadata": {
    "collapsed": false,
    "ExecuteTime": {
     "end_time": "2024-05-09T12:27:52.506423800Z",
     "start_time": "2024-05-09T12:27:52.501302Z"
    }
   },
   "id": "9b1e4427f9b16dc5",
   "execution_count": 13
  },
  {
   "cell_type": "markdown",
   "source": [
    "reading the csv files from the given url into pandas dataframes"
   ],
   "metadata": {
    "collapsed": false
   },
   "id": "f8afd68a47c2e3e6"
  },
  {
   "cell_type": "code",
   "outputs": [
    {
     "ename": "OperationalError",
     "evalue": "too many SQL variables",
     "output_type": "error",
     "traceback": [
      "\u001B[1;31m---------------------------------------------------------------------------\u001B[0m",
      "\u001B[1;31mOperationalError\u001B[0m                          Traceback (most recent call last)",
      "Cell \u001B[1;32mIn[15], line 8\u001B[0m\n\u001B[0;32m      5\u001B[0m df\u001B[38;5;241m.\u001B[39mto_sql(\u001B[38;5;124m\"\u001B[39m\u001B[38;5;124mCHICAGO_CRIME_DATA\u001B[39m\u001B[38;5;124m\"\u001B[39m, con, if_exists\u001B[38;5;241m=\u001B[39m\u001B[38;5;124m'\u001B[39m\u001B[38;5;124mreplace\u001B[39m\u001B[38;5;124m'\u001B[39m, index\u001B[38;5;241m=\u001B[39m\u001B[38;5;28;01mFalse\u001B[39;00m, method\u001B[38;5;241m=\u001B[39m\u001B[38;5;124m\"\u001B[39m\u001B[38;5;124mmulti\u001B[39m\u001B[38;5;124m\"\u001B[39m)\n\u001B[0;32m      7\u001B[0m df \u001B[38;5;241m=\u001B[39m pd\u001B[38;5;241m.\u001B[39mread_csv(\u001B[38;5;124m\"\u001B[39m\u001B[38;5;124mhttps://cf-courses-data.s3.us.cloud-object-storage.appdomain.cloud/IBMDeveloperSkillsNetwork-DB0201EN-SkillsNetwork/labs/FinalModule_Coursera_V5/data/ChicagoPublicSchools.csv\u001B[39m\u001B[38;5;124m\"\u001B[39m)\n\u001B[1;32m----> 8\u001B[0m \u001B[43mdf\u001B[49m\u001B[38;5;241;43m.\u001B[39;49m\u001B[43mto_sql\u001B[49m\u001B[43m(\u001B[49m\u001B[38;5;124;43m\"\u001B[39;49m\u001B[38;5;124;43mCHICAGO_PUBLIC_SCHOOLS_DATA\u001B[39;49m\u001B[38;5;124;43m\"\u001B[39;49m\u001B[43m,\u001B[49m\u001B[43m \u001B[49m\u001B[43mcon\u001B[49m\u001B[43m,\u001B[49m\u001B[43m \u001B[49m\u001B[43mif_exists\u001B[49m\u001B[38;5;241;43m=\u001B[39;49m\u001B[38;5;124;43m'\u001B[39;49m\u001B[38;5;124;43mreplace\u001B[39;49m\u001B[38;5;124;43m'\u001B[39;49m\u001B[43m,\u001B[49m\u001B[43m \u001B[49m\u001B[43mindex\u001B[49m\u001B[38;5;241;43m=\u001B[39;49m\u001B[38;5;28;43;01mFalse\u001B[39;49;00m\u001B[43m,\u001B[49m\u001B[43m \u001B[49m\u001B[43mmethod\u001B[49m\u001B[38;5;241;43m=\u001B[39;49m\u001B[38;5;124;43m\"\u001B[39;49m\u001B[38;5;124;43mmulti\u001B[39;49m\u001B[38;5;124;43m\"\u001B[39;49m\u001B[43m)\u001B[49m\n",
      "File \u001B[1;32m~\\Documents\\projects python\\SQL\\.venv\\Lib\\site-packages\\pandas\\util\\_decorators.py:333\u001B[0m, in \u001B[0;36mdeprecate_nonkeyword_arguments.<locals>.decorate.<locals>.wrapper\u001B[1;34m(*args, **kwargs)\u001B[0m\n\u001B[0;32m    327\u001B[0m \u001B[38;5;28;01mif\u001B[39;00m \u001B[38;5;28mlen\u001B[39m(args) \u001B[38;5;241m>\u001B[39m num_allow_args:\n\u001B[0;32m    328\u001B[0m     warnings\u001B[38;5;241m.\u001B[39mwarn(\n\u001B[0;32m    329\u001B[0m         msg\u001B[38;5;241m.\u001B[39mformat(arguments\u001B[38;5;241m=\u001B[39m_format_argument_list(allow_args)),\n\u001B[0;32m    330\u001B[0m         \u001B[38;5;167;01mFutureWarning\u001B[39;00m,\n\u001B[0;32m    331\u001B[0m         stacklevel\u001B[38;5;241m=\u001B[39mfind_stack_level(),\n\u001B[0;32m    332\u001B[0m     )\n\u001B[1;32m--> 333\u001B[0m \u001B[38;5;28;01mreturn\u001B[39;00m \u001B[43mfunc\u001B[49m\u001B[43m(\u001B[49m\u001B[38;5;241;43m*\u001B[39;49m\u001B[43margs\u001B[49m\u001B[43m,\u001B[49m\u001B[43m \u001B[49m\u001B[38;5;241;43m*\u001B[39;49m\u001B[38;5;241;43m*\u001B[39;49m\u001B[43mkwargs\u001B[49m\u001B[43m)\u001B[49m\n",
      "File \u001B[1;32m~\\Documents\\projects python\\SQL\\.venv\\Lib\\site-packages\\pandas\\core\\generic.py:3087\u001B[0m, in \u001B[0;36mNDFrame.to_sql\u001B[1;34m(self, name, con, schema, if_exists, index, index_label, chunksize, dtype, method)\u001B[0m\n\u001B[0;32m   2889\u001B[0m \u001B[38;5;250m\u001B[39m\u001B[38;5;124;03m\"\"\"\u001B[39;00m\n\u001B[0;32m   2890\u001B[0m \u001B[38;5;124;03mWrite records stored in a DataFrame to a SQL database.\u001B[39;00m\n\u001B[0;32m   2891\u001B[0m \n\u001B[1;32m   (...)\u001B[0m\n\u001B[0;32m   3083\u001B[0m \u001B[38;5;124;03m[(1,), (None,), (2,)]\u001B[39;00m\n\u001B[0;32m   3084\u001B[0m \u001B[38;5;124;03m\"\"\"\u001B[39;00m  \u001B[38;5;66;03m# noqa: E501\u001B[39;00m\n\u001B[0;32m   3085\u001B[0m \u001B[38;5;28;01mfrom\u001B[39;00m \u001B[38;5;21;01mpandas\u001B[39;00m\u001B[38;5;21;01m.\u001B[39;00m\u001B[38;5;21;01mio\u001B[39;00m \u001B[38;5;28;01mimport\u001B[39;00m sql\n\u001B[1;32m-> 3087\u001B[0m \u001B[38;5;28;01mreturn\u001B[39;00m \u001B[43msql\u001B[49m\u001B[38;5;241;43m.\u001B[39;49m\u001B[43mto_sql\u001B[49m\u001B[43m(\u001B[49m\n\u001B[0;32m   3088\u001B[0m \u001B[43m    \u001B[49m\u001B[38;5;28;43mself\u001B[39;49m\u001B[43m,\u001B[49m\n\u001B[0;32m   3089\u001B[0m \u001B[43m    \u001B[49m\u001B[43mname\u001B[49m\u001B[43m,\u001B[49m\n\u001B[0;32m   3090\u001B[0m \u001B[43m    \u001B[49m\u001B[43mcon\u001B[49m\u001B[43m,\u001B[49m\n\u001B[0;32m   3091\u001B[0m \u001B[43m    \u001B[49m\u001B[43mschema\u001B[49m\u001B[38;5;241;43m=\u001B[39;49m\u001B[43mschema\u001B[49m\u001B[43m,\u001B[49m\n\u001B[0;32m   3092\u001B[0m \u001B[43m    \u001B[49m\u001B[43mif_exists\u001B[49m\u001B[38;5;241;43m=\u001B[39;49m\u001B[43mif_exists\u001B[49m\u001B[43m,\u001B[49m\n\u001B[0;32m   3093\u001B[0m \u001B[43m    \u001B[49m\u001B[43mindex\u001B[49m\u001B[38;5;241;43m=\u001B[39;49m\u001B[43mindex\u001B[49m\u001B[43m,\u001B[49m\n\u001B[0;32m   3094\u001B[0m \u001B[43m    \u001B[49m\u001B[43mindex_label\u001B[49m\u001B[38;5;241;43m=\u001B[39;49m\u001B[43mindex_label\u001B[49m\u001B[43m,\u001B[49m\n\u001B[0;32m   3095\u001B[0m \u001B[43m    \u001B[49m\u001B[43mchunksize\u001B[49m\u001B[38;5;241;43m=\u001B[39;49m\u001B[43mchunksize\u001B[49m\u001B[43m,\u001B[49m\n\u001B[0;32m   3096\u001B[0m \u001B[43m    \u001B[49m\u001B[43mdtype\u001B[49m\u001B[38;5;241;43m=\u001B[39;49m\u001B[43mdtype\u001B[49m\u001B[43m,\u001B[49m\n\u001B[0;32m   3097\u001B[0m \u001B[43m    \u001B[49m\u001B[43mmethod\u001B[49m\u001B[38;5;241;43m=\u001B[39;49m\u001B[43mmethod\u001B[49m\u001B[43m,\u001B[49m\n\u001B[0;32m   3098\u001B[0m \u001B[43m\u001B[49m\u001B[43m)\u001B[49m\n",
      "File \u001B[1;32m~\\Documents\\projects python\\SQL\\.venv\\Lib\\site-packages\\pandas\\io\\sql.py:842\u001B[0m, in \u001B[0;36mto_sql\u001B[1;34m(frame, name, con, schema, if_exists, index, index_label, chunksize, dtype, method, engine, **engine_kwargs)\u001B[0m\n\u001B[0;32m    837\u001B[0m     \u001B[38;5;28;01mraise\u001B[39;00m \u001B[38;5;167;01mNotImplementedError\u001B[39;00m(\n\u001B[0;32m    838\u001B[0m         \u001B[38;5;124m\"\u001B[39m\u001B[38;5;124m'\u001B[39m\u001B[38;5;124mframe\u001B[39m\u001B[38;5;124m'\u001B[39m\u001B[38;5;124m argument should be either a Series or a DataFrame\u001B[39m\u001B[38;5;124m\"\u001B[39m\n\u001B[0;32m    839\u001B[0m     )\n\u001B[0;32m    841\u001B[0m \u001B[38;5;28;01mwith\u001B[39;00m pandasSQL_builder(con, schema\u001B[38;5;241m=\u001B[39mschema, need_transaction\u001B[38;5;241m=\u001B[39m\u001B[38;5;28;01mTrue\u001B[39;00m) \u001B[38;5;28;01mas\u001B[39;00m pandas_sql:\n\u001B[1;32m--> 842\u001B[0m     \u001B[38;5;28;01mreturn\u001B[39;00m \u001B[43mpandas_sql\u001B[49m\u001B[38;5;241;43m.\u001B[39;49m\u001B[43mto_sql\u001B[49m\u001B[43m(\u001B[49m\n\u001B[0;32m    843\u001B[0m \u001B[43m        \u001B[49m\u001B[43mframe\u001B[49m\u001B[43m,\u001B[49m\n\u001B[0;32m    844\u001B[0m \u001B[43m        \u001B[49m\u001B[43mname\u001B[49m\u001B[43m,\u001B[49m\n\u001B[0;32m    845\u001B[0m \u001B[43m        \u001B[49m\u001B[43mif_exists\u001B[49m\u001B[38;5;241;43m=\u001B[39;49m\u001B[43mif_exists\u001B[49m\u001B[43m,\u001B[49m\n\u001B[0;32m    846\u001B[0m \u001B[43m        \u001B[49m\u001B[43mindex\u001B[49m\u001B[38;5;241;43m=\u001B[39;49m\u001B[43mindex\u001B[49m\u001B[43m,\u001B[49m\n\u001B[0;32m    847\u001B[0m \u001B[43m        \u001B[49m\u001B[43mindex_label\u001B[49m\u001B[38;5;241;43m=\u001B[39;49m\u001B[43mindex_label\u001B[49m\u001B[43m,\u001B[49m\n\u001B[0;32m    848\u001B[0m \u001B[43m        \u001B[49m\u001B[43mschema\u001B[49m\u001B[38;5;241;43m=\u001B[39;49m\u001B[43mschema\u001B[49m\u001B[43m,\u001B[49m\n\u001B[0;32m    849\u001B[0m \u001B[43m        \u001B[49m\u001B[43mchunksize\u001B[49m\u001B[38;5;241;43m=\u001B[39;49m\u001B[43mchunksize\u001B[49m\u001B[43m,\u001B[49m\n\u001B[0;32m    850\u001B[0m \u001B[43m        \u001B[49m\u001B[43mdtype\u001B[49m\u001B[38;5;241;43m=\u001B[39;49m\u001B[43mdtype\u001B[49m\u001B[43m,\u001B[49m\n\u001B[0;32m    851\u001B[0m \u001B[43m        \u001B[49m\u001B[43mmethod\u001B[49m\u001B[38;5;241;43m=\u001B[39;49m\u001B[43mmethod\u001B[49m\u001B[43m,\u001B[49m\n\u001B[0;32m    852\u001B[0m \u001B[43m        \u001B[49m\u001B[43mengine\u001B[49m\u001B[38;5;241;43m=\u001B[39;49m\u001B[43mengine\u001B[49m\u001B[43m,\u001B[49m\n\u001B[0;32m    853\u001B[0m \u001B[43m        \u001B[49m\u001B[38;5;241;43m*\u001B[39;49m\u001B[38;5;241;43m*\u001B[39;49m\u001B[43mengine_kwargs\u001B[49m\u001B[43m,\u001B[49m\n\u001B[0;32m    854\u001B[0m \u001B[43m    \u001B[49m\u001B[43m)\u001B[49m\n",
      "File \u001B[1;32m~\\Documents\\projects python\\SQL\\.venv\\Lib\\site-packages\\pandas\\io\\sql.py:2851\u001B[0m, in \u001B[0;36mSQLiteDatabase.to_sql\u001B[1;34m(self, frame, name, if_exists, index, index_label, schema, chunksize, dtype, method, engine, **engine_kwargs)\u001B[0m\n\u001B[0;32m   2841\u001B[0m table \u001B[38;5;241m=\u001B[39m SQLiteTable(\n\u001B[0;32m   2842\u001B[0m     name,\n\u001B[0;32m   2843\u001B[0m     \u001B[38;5;28mself\u001B[39m,\n\u001B[1;32m   (...)\u001B[0m\n\u001B[0;32m   2848\u001B[0m     dtype\u001B[38;5;241m=\u001B[39mdtype,\n\u001B[0;32m   2849\u001B[0m )\n\u001B[0;32m   2850\u001B[0m table\u001B[38;5;241m.\u001B[39mcreate()\n\u001B[1;32m-> 2851\u001B[0m \u001B[38;5;28;01mreturn\u001B[39;00m \u001B[43mtable\u001B[49m\u001B[38;5;241;43m.\u001B[39;49m\u001B[43minsert\u001B[49m\u001B[43m(\u001B[49m\u001B[43mchunksize\u001B[49m\u001B[43m,\u001B[49m\u001B[43m \u001B[49m\u001B[43mmethod\u001B[49m\u001B[43m)\u001B[49m\n",
      "File \u001B[1;32m~\\Documents\\projects python\\SQL\\.venv\\Lib\\site-packages\\pandas\\io\\sql.py:1119\u001B[0m, in \u001B[0;36mSQLTable.insert\u001B[1;34m(self, chunksize, method)\u001B[0m\n\u001B[0;32m   1116\u001B[0m     \u001B[38;5;28;01mbreak\u001B[39;00m\n\u001B[0;32m   1118\u001B[0m chunk_iter \u001B[38;5;241m=\u001B[39m \u001B[38;5;28mzip\u001B[39m(\u001B[38;5;241m*\u001B[39m(arr[start_i:end_i] \u001B[38;5;28;01mfor\u001B[39;00m arr \u001B[38;5;129;01min\u001B[39;00m data_list))\n\u001B[1;32m-> 1119\u001B[0m num_inserted \u001B[38;5;241m=\u001B[39m \u001B[43mexec_insert\u001B[49m\u001B[43m(\u001B[49m\u001B[43mconn\u001B[49m\u001B[43m,\u001B[49m\u001B[43m \u001B[49m\u001B[43mkeys\u001B[49m\u001B[43m,\u001B[49m\u001B[43m \u001B[49m\u001B[43mchunk_iter\u001B[49m\u001B[43m)\u001B[49m\n\u001B[0;32m   1120\u001B[0m \u001B[38;5;66;03m# GH 46891\u001B[39;00m\n\u001B[0;32m   1121\u001B[0m \u001B[38;5;28;01mif\u001B[39;00m num_inserted \u001B[38;5;129;01mis\u001B[39;00m \u001B[38;5;129;01mnot\u001B[39;00m \u001B[38;5;28;01mNone\u001B[39;00m:\n",
      "File \u001B[1;32m~\\Documents\\projects python\\SQL\\.venv\\Lib\\site-packages\\pandas\\io\\sql.py:2553\u001B[0m, in \u001B[0;36mSQLiteTable._execute_insert_multi\u001B[1;34m(self, conn, keys, data_iter)\u001B[0m\n\u001B[0;32m   2551\u001B[0m data_list \u001B[38;5;241m=\u001B[39m \u001B[38;5;28mlist\u001B[39m(data_iter)\n\u001B[0;32m   2552\u001B[0m flattened_data \u001B[38;5;241m=\u001B[39m [x \u001B[38;5;28;01mfor\u001B[39;00m row \u001B[38;5;129;01min\u001B[39;00m data_list \u001B[38;5;28;01mfor\u001B[39;00m x \u001B[38;5;129;01min\u001B[39;00m row]\n\u001B[1;32m-> 2553\u001B[0m \u001B[43mconn\u001B[49m\u001B[38;5;241;43m.\u001B[39;49m\u001B[43mexecute\u001B[49m\u001B[43m(\u001B[49m\u001B[38;5;28;43mself\u001B[39;49m\u001B[38;5;241;43m.\u001B[39;49m\u001B[43minsert_statement\u001B[49m\u001B[43m(\u001B[49m\u001B[43mnum_rows\u001B[49m\u001B[38;5;241;43m=\u001B[39;49m\u001B[38;5;28;43mlen\u001B[39;49m\u001B[43m(\u001B[49m\u001B[43mdata_list\u001B[49m\u001B[43m)\u001B[49m\u001B[43m)\u001B[49m\u001B[43m,\u001B[49m\u001B[43m \u001B[49m\u001B[43mflattened_data\u001B[49m\u001B[43m)\u001B[49m\n\u001B[0;32m   2554\u001B[0m \u001B[38;5;28;01mreturn\u001B[39;00m conn\u001B[38;5;241m.\u001B[39mrowcount\n",
      "\u001B[1;31mOperationalError\u001B[0m: too many SQL variables"
     ]
    }
   ],
   "source": [
    "df = pd.read_csv(\"https://cf-courses-data.s3.us.cloud-object-storage.appdomain.cloud/IBMDeveloperSkillsNetwork-DB0201EN-SkillsNetwork/labs/FinalModule_Coursera_V5/data/ChicagoCensusData.csv\")\n",
    "df.to_sql(\"CENSUS_DATA\", con, if_exists='replace', index=False,method=\"multi\")\n",
    "\n",
    "df = pd.read_csv(\"https://cf-courses-data.s3.us.cloud-object-storage.appdomain.cloud/IBMDeveloperSkillsNetwork-DB0201EN-SkillsNetwork/labs/FinalModule_Coursera_V5/data/ChicagoCrimeData.csv\")\n",
    "df.to_sql(\"CHICAGO_CRIME_DATA\", con, if_exists='replace', index=False, method=\"multi\")\n",
    "\n",
    "df = pd.read_csv(\"https://cf-courses-data.s3.us.cloud-object-storage.appdomain.cloud/IBMDeveloperSkillsNetwork-DB0201EN-SkillsNetwork/labs/FinalModule_Coursera_V5/data/ChicagoPublicSchools.csv\")\n",
    "df.to_sql(\"CHICAGO_PUBLIC_SCHOOLS_DATA\", con, if_exists='replace', index=False, method=\"multi\")"
   ],
   "metadata": {
    "collapsed": false,
    "ExecuteTime": {
     "end_time": "2024-05-09T12:29:29.479225900Z",
     "start_time": "2024-05-09T12:29:13.420844300Z"
    }
   },
   "id": "b2869cb7f90670ec",
   "execution_count": 15
  },
  {
   "cell_type": "markdown",
   "source": [
    "verifying that the table creation was successful by retrieving the list of all tables in your schema and checking whether the SCHOOLS table was created"
   ],
   "metadata": {
    "collapsed": false
   },
   "id": "61443aa237ec2b60"
  },
  {
   "cell_type": "code",
   "outputs": [
    {
     "name": "stdout",
     "output_type": "stream",
     "text": [
      " * sqlite:///RealWorldData.db\n",
      "Done.\n"
     ]
    },
    {
     "data": {
      "text/plain": "[('CensusData',),\n ('CENSUS_DATA',),\n ('CHICAGO_CRIME_DATA',),\n ('CHICAGO_PUBLIC_SCHOOLS_DATA',)]",
      "text/html": "<table>\n    <thead>\n        <tr>\n            <th>name</th>\n        </tr>\n    </thead>\n    <tbody>\n        <tr>\n            <td>CensusData</td>\n        </tr>\n        <tr>\n            <td>CENSUS_DATA</td>\n        </tr>\n        <tr>\n            <td>CHICAGO_CRIME_DATA</td>\n        </tr>\n        <tr>\n            <td>CHICAGO_PUBLIC_SCHOOLS_DATA</td>\n        </tr>\n    </tbody>\n</table>"
     },
     "execution_count": 16,
     "metadata": {},
     "output_type": "execute_result"
    }
   ],
   "source": [
    "%sql SELECT name FROM sqlite_master WHERE type='table'"
   ],
   "metadata": {
    "collapsed": false,
    "ExecuteTime": {
     "end_time": "2024-05-09T12:32:47.165993700Z",
     "start_time": "2024-05-09T12:32:47.136057200Z"
    }
   },
   "id": "dccbde5decbe910",
   "execution_count": 16
  },
  {
   "cell_type": "markdown",
   "source": [
    "Querying the database system catalog to retrieve column metadata"
   ],
   "metadata": {
    "collapsed": false
   },
   "id": "f76983f93208389d"
  },
  {
   "cell_type": "code",
   "outputs": [
    {
     "name": "stdout",
     "output_type": "stream",
     "text": [
      " * sqlite:///RealWorldData.db\n",
      "(sqlite3.OperationalError) incomplete input\n",
      "[SQL: SELECT count(name) FROM PRAGMA_TABLE_INFO('CHICAGO_PUBLIC_SCHOOLS_DATA']\n",
      "(Background on this error at: https://sqlalche.me/e/20/e3q8)\n"
     ]
    }
   ],
   "source": [
    "%sql SELECT count(name) FROM PRAGMA_TABLE_INFO('CHICAGO_PUBLIC_SCHOOLS_DATA'"
   ],
   "metadata": {
    "collapsed": false,
    "ExecuteTime": {
     "end_time": "2024-05-09T12:53:07.488966300Z",
     "start_time": "2024-05-09T12:53:07.484995Z"
    }
   },
   "id": "d8e2e91332e6e00f",
   "execution_count": 25
  },
  {
   "cell_type": "markdown",
   "source": [],
   "metadata": {
    "collapsed": false
   },
   "id": "8b4d1c3c8d21fa39"
  },
  {
   "cell_type": "code",
   "outputs": [
    {
     "name": "stdout",
     "output_type": "stream",
     "text": [
      " * sqlite:///RealWorldData.db\n",
      "Done.\n"
     ]
    },
    {
     "data": {
      "text/plain": "[('School_ID', 'INTEGER', 7),\n ('NAME_OF_SCHOOL', 'TEXT', 4),\n ('Elementary, Middle, or High School', 'TEXT', 4),\n ('Street_Address', 'TEXT', 4),\n ('City', 'TEXT', 4),\n ('State', 'TEXT', 4),\n ('ZIP_Code', 'INTEGER', 7),\n ('Phone_Number', 'TEXT', 4),\n ('Link', 'TEXT', 4),\n ('Network_Manager', 'TEXT', 4),\n ('Collaborative_Name', 'TEXT', 4),\n ('Adequate_Yearly_Progress_Made_', 'TEXT', 4),\n ('Track_Schedule', 'TEXT', 4),\n ('CPS_Performance_Policy_Status', 'TEXT', 4),\n ('CPS_Performance_Policy_Level', 'TEXT', 4),\n ('HEALTHY_SCHOOL_CERTIFIED', 'TEXT', 4),\n ('Safety_Icon', 'TEXT', 4),\n ('SAFETY_SCORE', 'REAL', 4),\n ('Family_Involvement_Icon', 'TEXT', 4),\n ('Family_Involvement_Score', 'TEXT', 4),\n ('Environment_Icon', 'TEXT', 4),\n ('Environment_Score', 'REAL', 4),\n ('Instruction_Icon', 'TEXT', 4),\n ('Instruction_Score', 'REAL', 4),\n ('Leaders_Icon', 'TEXT', 4),\n ('Leaders_Score', 'TEXT', 4),\n ('Teachers_Icon', 'TEXT', 4),\n ('Teachers_Score', 'TEXT', 4),\n ('Parent_Engagement_Icon', 'TEXT', 4),\n ('Parent_Engagement_Score', 'TEXT', 4),\n ('Parent_Environment_Icon', 'TEXT', 4),\n ('Parent_Environment_Score', 'TEXT', 4),\n ('AVERAGE_STUDENT_ATTENDANCE', 'TEXT', 4),\n ('Rate_of_Misconducts__per_100_students_', 'REAL', 4),\n ('Average_Teacher_Attendance', 'TEXT', 4),\n ('Individualized_Education_Program_Compliance_Rate', 'TEXT', 4),\n ('Pk_2_Literacy__', 'TEXT', 4),\n ('Pk_2_Math__', 'TEXT', 4),\n ('Gr3_5_Grade_Level_Math__', 'TEXT', 4),\n ('Gr3_5_Grade_Level_Read__', 'TEXT', 4),\n ('Gr3_5_Keep_Pace_Read__', 'TEXT', 4),\n ('Gr3_5_Keep_Pace_Math__', 'TEXT', 4),\n ('Gr6_8_Grade_Level_Math__', 'TEXT', 4),\n ('Gr6_8_Grade_Level_Read__', 'TEXT', 4),\n ('Gr6_8_Keep_Pace_Math_', 'TEXT', 4),\n ('Gr6_8_Keep_Pace_Read__', 'TEXT', 4),\n ('Gr_8_Explore_Math__', 'TEXT', 4),\n ('Gr_8_Explore_Read__', 'TEXT', 4),\n ('ISAT_Exceeding_Math__', 'REAL', 4),\n ('ISAT_Exceeding_Reading__', 'REAL', 4),\n ('ISAT_Value_Add_Math', 'REAL', 4),\n ('ISAT_Value_Add_Read', 'REAL', 4),\n ('ISAT_Value_Add_Color_Math', 'TEXT', 4),\n ('ISAT_Value_Add_Color_Read', 'TEXT', 4),\n ('Students_Taking__Algebra__', 'TEXT', 4),\n ('Students_Passing__Algebra__', 'TEXT', 4),\n ('9th Grade EXPLORE (2009)', 'TEXT', 4),\n ('9th Grade EXPLORE (2010)', 'TEXT', 4),\n ('10th Grade PLAN (2009)', 'TEXT', 4),\n ('10th Grade PLAN (2010)', 'TEXT', 4),\n ('Net_Change_EXPLORE_and_PLAN', 'TEXT', 4),\n ('11th Grade Average ACT (2011)', 'TEXT', 4),\n ('Net_Change_PLAN_and_ACT', 'TEXT', 4),\n ('College_Eligibility__', 'TEXT', 4),\n ('Graduation_Rate__', 'TEXT', 4),\n ('College_Enrollment_Rate__', 'TEXT', 4),\n ('COLLEGE_ENROLLMENT', 'INTEGER', 7),\n ('General_Services_Route', 'INTEGER', 7),\n ('Freshman_on_Track_Rate__', 'TEXT', 4),\n ('X_COORDINATE', 'REAL', 4),\n ('Y_COORDINATE', 'REAL', 4),\n ('Latitude', 'REAL', 4),\n ('Longitude', 'REAL', 4),\n ('COMMUNITY_AREA_NUMBER', 'INTEGER', 7),\n ('COMMUNITY_AREA_NAME', 'TEXT', 4),\n ('Ward', 'INTEGER', 7),\n ('Police_District', 'INTEGER', 7),\n ('Location', 'TEXT', 4)]",
      "text/html": "<table>\n    <thead>\n        <tr>\n            <th>name</th>\n            <th>type</th>\n            <th>length(type)</th>\n        </tr>\n    </thead>\n    <tbody>\n        <tr>\n            <td>School_ID</td>\n            <td>INTEGER</td>\n            <td>7</td>\n        </tr>\n        <tr>\n            <td>NAME_OF_SCHOOL</td>\n            <td>TEXT</td>\n            <td>4</td>\n        </tr>\n        <tr>\n            <td>Elementary, Middle, or High School</td>\n            <td>TEXT</td>\n            <td>4</td>\n        </tr>\n        <tr>\n            <td>Street_Address</td>\n            <td>TEXT</td>\n            <td>4</td>\n        </tr>\n        <tr>\n            <td>City</td>\n            <td>TEXT</td>\n            <td>4</td>\n        </tr>\n        <tr>\n            <td>State</td>\n            <td>TEXT</td>\n            <td>4</td>\n        </tr>\n        <tr>\n            <td>ZIP_Code</td>\n            <td>INTEGER</td>\n            <td>7</td>\n        </tr>\n        <tr>\n            <td>Phone_Number</td>\n            <td>TEXT</td>\n            <td>4</td>\n        </tr>\n        <tr>\n            <td>Link</td>\n            <td>TEXT</td>\n            <td>4</td>\n        </tr>\n        <tr>\n            <td>Network_Manager</td>\n            <td>TEXT</td>\n            <td>4</td>\n        </tr>\n        <tr>\n            <td>Collaborative_Name</td>\n            <td>TEXT</td>\n            <td>4</td>\n        </tr>\n        <tr>\n            <td>Adequate_Yearly_Progress_Made_</td>\n            <td>TEXT</td>\n            <td>4</td>\n        </tr>\n        <tr>\n            <td>Track_Schedule</td>\n            <td>TEXT</td>\n            <td>4</td>\n        </tr>\n        <tr>\n            <td>CPS_Performance_Policy_Status</td>\n            <td>TEXT</td>\n            <td>4</td>\n        </tr>\n        <tr>\n            <td>CPS_Performance_Policy_Level</td>\n            <td>TEXT</td>\n            <td>4</td>\n        </tr>\n        <tr>\n            <td>HEALTHY_SCHOOL_CERTIFIED</td>\n            <td>TEXT</td>\n            <td>4</td>\n        </tr>\n        <tr>\n            <td>Safety_Icon</td>\n            <td>TEXT</td>\n            <td>4</td>\n        </tr>\n        <tr>\n            <td>SAFETY_SCORE</td>\n            <td>REAL</td>\n            <td>4</td>\n        </tr>\n        <tr>\n            <td>Family_Involvement_Icon</td>\n            <td>TEXT</td>\n            <td>4</td>\n        </tr>\n        <tr>\n            <td>Family_Involvement_Score</td>\n            <td>TEXT</td>\n            <td>4</td>\n        </tr>\n        <tr>\n            <td>Environment_Icon</td>\n            <td>TEXT</td>\n            <td>4</td>\n        </tr>\n        <tr>\n            <td>Environment_Score</td>\n            <td>REAL</td>\n            <td>4</td>\n        </tr>\n        <tr>\n            <td>Instruction_Icon</td>\n            <td>TEXT</td>\n            <td>4</td>\n        </tr>\n        <tr>\n            <td>Instruction_Score</td>\n            <td>REAL</td>\n            <td>4</td>\n        </tr>\n        <tr>\n            <td>Leaders_Icon</td>\n            <td>TEXT</td>\n            <td>4</td>\n        </tr>\n        <tr>\n            <td>Leaders_Score</td>\n            <td>TEXT</td>\n            <td>4</td>\n        </tr>\n        <tr>\n            <td>Teachers_Icon</td>\n            <td>TEXT</td>\n            <td>4</td>\n        </tr>\n        <tr>\n            <td>Teachers_Score</td>\n            <td>TEXT</td>\n            <td>4</td>\n        </tr>\n        <tr>\n            <td>Parent_Engagement_Icon</td>\n            <td>TEXT</td>\n            <td>4</td>\n        </tr>\n        <tr>\n            <td>Parent_Engagement_Score</td>\n            <td>TEXT</td>\n            <td>4</td>\n        </tr>\n        <tr>\n            <td>Parent_Environment_Icon</td>\n            <td>TEXT</td>\n            <td>4</td>\n        </tr>\n        <tr>\n            <td>Parent_Environment_Score</td>\n            <td>TEXT</td>\n            <td>4</td>\n        </tr>\n        <tr>\n            <td>AVERAGE_STUDENT_ATTENDANCE</td>\n            <td>TEXT</td>\n            <td>4</td>\n        </tr>\n        <tr>\n            <td>Rate_of_Misconducts__per_100_students_</td>\n            <td>REAL</td>\n            <td>4</td>\n        </tr>\n        <tr>\n            <td>Average_Teacher_Attendance</td>\n            <td>TEXT</td>\n            <td>4</td>\n        </tr>\n        <tr>\n            <td>Individualized_Education_Program_Compliance_Rate</td>\n            <td>TEXT</td>\n            <td>4</td>\n        </tr>\n        <tr>\n            <td>Pk_2_Literacy__</td>\n            <td>TEXT</td>\n            <td>4</td>\n        </tr>\n        <tr>\n            <td>Pk_2_Math__</td>\n            <td>TEXT</td>\n            <td>4</td>\n        </tr>\n        <tr>\n            <td>Gr3_5_Grade_Level_Math__</td>\n            <td>TEXT</td>\n            <td>4</td>\n        </tr>\n        <tr>\n            <td>Gr3_5_Grade_Level_Read__</td>\n            <td>TEXT</td>\n            <td>4</td>\n        </tr>\n        <tr>\n            <td>Gr3_5_Keep_Pace_Read__</td>\n            <td>TEXT</td>\n            <td>4</td>\n        </tr>\n        <tr>\n            <td>Gr3_5_Keep_Pace_Math__</td>\n            <td>TEXT</td>\n            <td>4</td>\n        </tr>\n        <tr>\n            <td>Gr6_8_Grade_Level_Math__</td>\n            <td>TEXT</td>\n            <td>4</td>\n        </tr>\n        <tr>\n            <td>Gr6_8_Grade_Level_Read__</td>\n            <td>TEXT</td>\n            <td>4</td>\n        </tr>\n        <tr>\n            <td>Gr6_8_Keep_Pace_Math_</td>\n            <td>TEXT</td>\n            <td>4</td>\n        </tr>\n        <tr>\n            <td>Gr6_8_Keep_Pace_Read__</td>\n            <td>TEXT</td>\n            <td>4</td>\n        </tr>\n        <tr>\n            <td>Gr_8_Explore_Math__</td>\n            <td>TEXT</td>\n            <td>4</td>\n        </tr>\n        <tr>\n            <td>Gr_8_Explore_Read__</td>\n            <td>TEXT</td>\n            <td>4</td>\n        </tr>\n        <tr>\n            <td>ISAT_Exceeding_Math__</td>\n            <td>REAL</td>\n            <td>4</td>\n        </tr>\n        <tr>\n            <td>ISAT_Exceeding_Reading__</td>\n            <td>REAL</td>\n            <td>4</td>\n        </tr>\n        <tr>\n            <td>ISAT_Value_Add_Math</td>\n            <td>REAL</td>\n            <td>4</td>\n        </tr>\n        <tr>\n            <td>ISAT_Value_Add_Read</td>\n            <td>REAL</td>\n            <td>4</td>\n        </tr>\n        <tr>\n            <td>ISAT_Value_Add_Color_Math</td>\n            <td>TEXT</td>\n            <td>4</td>\n        </tr>\n        <tr>\n            <td>ISAT_Value_Add_Color_Read</td>\n            <td>TEXT</td>\n            <td>4</td>\n        </tr>\n        <tr>\n            <td>Students_Taking__Algebra__</td>\n            <td>TEXT</td>\n            <td>4</td>\n        </tr>\n        <tr>\n            <td>Students_Passing__Algebra__</td>\n            <td>TEXT</td>\n            <td>4</td>\n        </tr>\n        <tr>\n            <td>9th Grade EXPLORE (2009)</td>\n            <td>TEXT</td>\n            <td>4</td>\n        </tr>\n        <tr>\n            <td>9th Grade EXPLORE (2010)</td>\n            <td>TEXT</td>\n            <td>4</td>\n        </tr>\n        <tr>\n            <td>10th Grade PLAN (2009)</td>\n            <td>TEXT</td>\n            <td>4</td>\n        </tr>\n        <tr>\n            <td>10th Grade PLAN (2010)</td>\n            <td>TEXT</td>\n            <td>4</td>\n        </tr>\n        <tr>\n            <td>Net_Change_EXPLORE_and_PLAN</td>\n            <td>TEXT</td>\n            <td>4</td>\n        </tr>\n        <tr>\n            <td>11th Grade Average ACT (2011)</td>\n            <td>TEXT</td>\n            <td>4</td>\n        </tr>\n        <tr>\n            <td>Net_Change_PLAN_and_ACT</td>\n            <td>TEXT</td>\n            <td>4</td>\n        </tr>\n        <tr>\n            <td>College_Eligibility__</td>\n            <td>TEXT</td>\n            <td>4</td>\n        </tr>\n        <tr>\n            <td>Graduation_Rate__</td>\n            <td>TEXT</td>\n            <td>4</td>\n        </tr>\n        <tr>\n            <td>College_Enrollment_Rate__</td>\n            <td>TEXT</td>\n            <td>4</td>\n        </tr>\n        <tr>\n            <td>COLLEGE_ENROLLMENT</td>\n            <td>INTEGER</td>\n            <td>7</td>\n        </tr>\n        <tr>\n            <td>General_Services_Route</td>\n            <td>INTEGER</td>\n            <td>7</td>\n        </tr>\n        <tr>\n            <td>Freshman_on_Track_Rate__</td>\n            <td>TEXT</td>\n            <td>4</td>\n        </tr>\n        <tr>\n            <td>X_COORDINATE</td>\n            <td>REAL</td>\n            <td>4</td>\n        </tr>\n        <tr>\n            <td>Y_COORDINATE</td>\n            <td>REAL</td>\n            <td>4</td>\n        </tr>\n        <tr>\n            <td>Latitude</td>\n            <td>REAL</td>\n            <td>4</td>\n        </tr>\n        <tr>\n            <td>Longitude</td>\n            <td>REAL</td>\n            <td>4</td>\n        </tr>\n        <tr>\n            <td>COMMUNITY_AREA_NUMBER</td>\n            <td>INTEGER</td>\n            <td>7</td>\n        </tr>\n        <tr>\n            <td>COMMUNITY_AREA_NAME</td>\n            <td>TEXT</td>\n            <td>4</td>\n        </tr>\n        <tr>\n            <td>Ward</td>\n            <td>INTEGER</td>\n            <td>7</td>\n        </tr>\n        <tr>\n            <td>Police_District</td>\n            <td>INTEGER</td>\n            <td>7</td>\n        </tr>\n        <tr>\n            <td>Location</td>\n            <td>TEXT</td>\n            <td>4</td>\n        </tr>\n    </tbody>\n</table>"
     },
     "execution_count": 26,
     "metadata": {},
     "output_type": "execute_result"
    }
   ],
   "source": [
    "%sql SELECT name,type,length(type) FROM PRAGMA_TABLE_INFO('CHICAGO_PUBLIC_SCHOOLS_DATA');"
   ],
   "metadata": {
    "collapsed": false,
    "ExecuteTime": {
     "end_time": "2024-05-09T12:53:09.364118Z",
     "start_time": "2024-05-09T12:53:09.329237500Z"
    }
   },
   "id": "65816c6f4a2b903d",
   "execution_count": 26
  },
  {
   "cell_type": "markdown",
   "source": [
    " NO. of Elementary Schools are in the dataset"
   ],
   "metadata": {
    "collapsed": false
   },
   "id": "9b2e62b29fb00150"
  },
  {
   "cell_type": "code",
   "outputs": [
    {
     "name": "stdout",
     "output_type": "stream",
     "text": [
      " * sqlite:///RealWorldData.db\n",
      "Done.\n"
     ]
    },
    {
     "data": {
      "text/plain": "[(0,)]",
      "text/html": "<table>\n    <thead>\n        <tr>\n            <th>count(*)</th>\n        </tr>\n    </thead>\n    <tbody>\n        <tr>\n            <td>0</td>\n        </tr>\n    </tbody>\n</table>"
     },
     "execution_count": 27,
     "metadata": {},
     "output_type": "execute_result"
    }
   ],
   "source": [
    "%sql select count(*) from CHICAGO_PUBLIC_SCHOOLS_DATA where 'Elementary, Middle, or High School' ='ES'"
   ],
   "metadata": {
    "collapsed": false,
    "ExecuteTime": {
     "end_time": "2024-05-09T12:53:11.199662900Z",
     "start_time": "2024-05-09T12:53:11.184596600Z"
    }
   },
   "id": "28c1f592f5bc7dd2",
   "execution_count": 27
  },
  {
   "cell_type": "markdown",
   "source": [
    "Highest Safety Score"
   ],
   "metadata": {
    "collapsed": false
   },
   "id": "89d78258d4e775b5"
  },
  {
   "cell_type": "code",
   "outputs": [
    {
     "name": "stdout",
     "output_type": "stream",
     "text": [
      " * sqlite:///RealWorldData.db\n",
      "Done.\n"
     ]
    },
    {
     "data": {
      "text/plain": "[(None,)]",
      "text/html": "<table>\n    <thead>\n        <tr>\n            <th>MAX_SAFETY_SCORE</th>\n        </tr>\n    </thead>\n    <tbody>\n        <tr>\n            <td>None</td>\n        </tr>\n    </tbody>\n</table>"
     },
     "execution_count": 29,
     "metadata": {},
     "output_type": "execute_result"
    }
   ],
   "source": [
    "%sql select MAX(Safety_Score) AS MAX_SAFETY_SCORE from CHICAGO_PUBLIC_SCHOOLS_DATA"
   ],
   "metadata": {
    "collapsed": false,
    "ExecuteTime": {
     "end_time": "2024-05-09T12:55:58.741008300Z",
     "start_time": "2024-05-09T12:55:58.719601500Z"
    }
   },
   "id": "e05dc254eb709bd4",
   "execution_count": 29
  },
  {
   "cell_type": "markdown",
   "source": [
    "NAme of schools have highest Safety Score"
   ],
   "metadata": {
    "collapsed": false
   },
   "id": "4356d276b3178730"
  },
  {
   "cell_type": "code",
   "outputs": [
    {
     "name": "stdout",
     "output_type": "stream",
     "text": [
      " * sqlite:///RealWorldData.db\n",
      "Done.\n"
     ]
    },
    {
     "data": {
      "text/plain": "[]",
      "text/html": "<table>\n    <thead>\n        <tr>\n            <th>NAME_OF_SCHOOL</th>\n            <th>SAFETY_SCORE</th>\n        </tr>\n    </thead>\n    <tbody>\n    </tbody>\n</table>"
     },
     "execution_count": 30,
     "metadata": {},
     "output_type": "execute_result"
    }
   ],
   "source": [
    "%sql select Name_of_School, Safety_Score from CHICAGO_PUBLIC_SCHOOLS_DATA where Safety_Score = 99"
   ],
   "metadata": {
    "collapsed": false,
    "ExecuteTime": {
     "end_time": "2024-05-09T12:56:24.590108300Z",
     "start_time": "2024-05-09T12:56:24.558015200Z"
    }
   },
   "id": "de623a72b6ce772c",
   "execution_count": 30
  },
  {
   "cell_type": "code",
   "outputs": [
    {
     "name": "stdout",
     "output_type": "stream",
     "text": [
      " * sqlite:///RealWorldData.db\n",
      "Done.\n"
     ]
    },
    {
     "data": {
      "text/plain": "[]",
      "text/html": "<table>\n    <thead>\n        <tr>\n            <th>NAME_OF_SCHOOL</th>\n            <th>SAFETY_SCORE</th>\n        </tr>\n    </thead>\n    <tbody>\n    </tbody>\n</table>"
     },
     "execution_count": 31,
     "metadata": {},
     "output_type": "execute_result"
    }
   ],
   "source": [
    "%sql select Name_of_School, Safety_Score from CHICAGO_PUBLIC_SCHOOLS_DATA where \\\n",
    "  Safety_Score= (select MAX(Safety_Score) from CHICAGO_PUBLIC_SCHOOLS_DATA)"
   ],
   "metadata": {
    "collapsed": false,
    "ExecuteTime": {
     "end_time": "2024-05-09T12:56:45.475957200Z",
     "start_time": "2024-05-09T12:56:45.438470700Z"
    }
   },
   "id": "466ebfb00714ff6b",
   "execution_count": 31
  },
  {
   "cell_type": "markdown",
   "source": [
    "the top 10 schools with the highest \"Average Student Attendance\""
   ],
   "metadata": {
    "collapsed": false
   },
   "id": "6dafacd9a8c618fb"
  },
  {
   "cell_type": "code",
   "outputs": [
    {
     "name": "stdout",
     "output_type": "stream",
     "text": [
      " * sqlite:///RealWorldData.db\n",
      "Done.\n"
     ]
    },
    {
     "data": {
      "text/plain": "[]",
      "text/html": "<table>\n    <thead>\n        <tr>\n            <th>NAME_OF_SCHOOL</th>\n            <th>AVERAGE_STUDENT_ATTENDANCE</th>\n        </tr>\n    </thead>\n    <tbody>\n    </tbody>\n</table>"
     },
     "execution_count": 32,
     "metadata": {},
     "output_type": "execute_result"
    }
   ],
   "source": [
    "%sql select Name_of_School, Average_Student_Attendance from CHICAGO_PUBLIC_SCHOOLS_DATA \\\n",
    "    order by Average_Student_Attendance desc nulls last limit 10 \n"
   ],
   "metadata": {
    "collapsed": false,
    "ExecuteTime": {
     "end_time": "2024-05-09T13:00:09.200715600Z",
     "start_time": "2024-05-09T13:00:09.170825500Z"
    }
   },
   "id": "c71407345960a057",
   "execution_count": 32
  },
  {
   "cell_type": "code",
   "outputs": [
    {
     "name": "stdout",
     "output_type": "stream",
     "text": [
      " * sqlite:///RealWorldData.db\n",
      "Done.\n"
     ]
    },
    {
     "data": {
      "text/plain": "[]",
      "text/html": "<table>\n    <thead>\n        <tr>\n            <th>NAME_OF_SCHOOL</th>\n            <th>AVERAGE_STUDENT_ATTENDANCE</th>\n        </tr>\n    </thead>\n    <tbody>\n    </tbody>\n</table>"
     },
     "execution_count": 33,
     "metadata": {},
     "output_type": "execute_result"
    }
   ],
   "source": [
    "%sql SELECT Name_of_School, Average_Student_Attendance  \\\n",
    "     from CHICAGO_PUBLIC_SCHOOLS_DATA \\\n",
    "     order by Average_Student_Attendance \\\n",
    "     LIMIT 5"
   ],
   "metadata": {
    "collapsed": false,
    "ExecuteTime": {
     "end_time": "2024-05-09T13:00:37.808656400Z",
     "start_time": "2024-05-09T13:00:37.737447100Z"
    }
   },
   "id": "11c6fef9a6290261",
   "execution_count": 33
  },
  {
   "cell_type": "markdown",
   "source": [
    "Schools having Average Student Attendance lower than 70%"
   ],
   "metadata": {
    "collapsed": false
   },
   "id": "b9e98351d27af89a"
  },
  {
   "cell_type": "code",
   "outputs": [
    {
     "name": "stdout",
     "output_type": "stream",
     "text": [
      " * sqlite:///RealWorldData.db\n",
      "Done.\n"
     ]
    },
    {
     "data": {
      "text/plain": "[]",
      "text/html": "<table>\n    <thead>\n        <tr>\n            <th>NAME_OF_SCHOOL</th>\n            <th>AVERAGE_STUDENT_ATTENDANCE</th>\n        </tr>\n    </thead>\n    <tbody>\n    </tbody>\n</table>"
     },
     "execution_count": 34,
     "metadata": {},
     "output_type": "execute_result"
    }
   ],
   "source": [
    "%sql SELECT Name_of_School, Average_Student_Attendance  \\\n",
    "     from CHICAGO_PUBLIC_SCHOOLS_DATA \\\n",
    "     where CAST ( REPLACE(Average_Student_Attendance, '%', '') AS DOUBLE ) < 70 \\\n",
    "     order by Average_Student_Attendance\n",
    "     "
   ],
   "metadata": {
    "collapsed": false,
    "ExecuteTime": {
     "end_time": "2024-05-09T13:04:22.730712Z",
     "start_time": "2024-05-09T13:04:22.714175400Z"
    }
   },
   "id": "38263aa8099136c4",
   "execution_count": 34
  },
  {
   "cell_type": "markdown",
   "source": [
    "total College Enrollment for each Community Area"
   ],
   "metadata": {
    "collapsed": false
   },
   "id": "6d3e01dccc7a88ee"
  },
  {
   "cell_type": "code",
   "outputs": [
    {
     "name": "stdout",
     "output_type": "stream",
     "text": [
      " * sqlite:///RealWorldData.db\n",
      "Done.\n"
     ]
    },
    {
     "data": {
      "text/plain": "[]",
      "text/html": "<table>\n    <thead>\n        <tr>\n            <th>COMMUNITY_AREA_NAME</th>\n            <th>TOTAL_ENROLLMENT</th>\n        </tr>\n    </thead>\n    <tbody>\n    </tbody>\n</table>"
     },
     "execution_count": 35,
     "metadata": {},
     "output_type": "execute_result"
    }
   ],
   "source": [
    "%sql select Community_Area_Name, sum(College_Enrollment) AS TOTAL_ENROLLMENT \\\n",
    "   from CHICAGO_PUBLIC_SCHOOLS_DATA \\\n",
    "   group by Community_Area_Name \n"
   ],
   "metadata": {
    "collapsed": false,
    "ExecuteTime": {
     "end_time": "2024-05-09T13:05:16.882665Z",
     "start_time": "2024-05-09T13:05:16.835143700Z"
    }
   },
   "id": "4ddf88c403935d0",
   "execution_count": 35
  },
  {
   "cell_type": "markdown",
   "source": [
    "5 Community Areas with the least total College Enrollment sorted in ascending order"
   ],
   "metadata": {
    "collapsed": false
   },
   "id": "fa9515483d558890"
  },
  {
   "cell_type": "code",
   "outputs": [
    {
     "name": "stdout",
     "output_type": "stream",
     "text": [
      " * sqlite:///RealWorldData.db\n",
      "Done.\n"
     ]
    },
    {
     "data": {
      "text/plain": "[]",
      "text/html": "<table>\n    <thead>\n        <tr>\n            <th>COMMUNITY_AREA_NAME</th>\n            <th>TOTAL_ENROLLMENT</th>\n        </tr>\n    </thead>\n    <tbody>\n    </tbody>\n</table>"
     },
     "execution_count": 36,
     "metadata": {},
     "output_type": "execute_result"
    }
   ],
   "source": [
    "%sql select Community_Area_Name, sum(College_Enrollment) AS TOTAL_ENROLLMENT \\\n",
    "   from CHICAGO_PUBLIC_SCHOOLS_DATA \\\n",
    "   group by Community_Area_Name \\\n",
    "   order by TOTAL_ENROLLMENT asc \\\n",
    "   LIMIT 5 "
   ],
   "metadata": {
    "collapsed": false,
    "ExecuteTime": {
     "end_time": "2024-05-09T13:05:52.950872Z",
     "start_time": "2024-05-09T13:05:52.917499600Z"
    }
   },
   "id": "898c5a85038437e4",
   "execution_count": 36
  },
  {
   "cell_type": "markdown",
   "source": [
    "Listing 5 schools with lowest safety score"
   ],
   "metadata": {
    "collapsed": false
   },
   "id": "e01adde493cc7919"
  },
  {
   "cell_type": "code",
   "outputs": [
    {
     "name": "stdout",
     "output_type": "stream",
     "text": [
      " * sqlite:///RealWorldData.db\n",
      "Done.\n"
     ]
    },
    {
     "data": {
      "text/plain": "[]",
      "text/html": "<table>\n    <thead>\n        <tr>\n            <th>NAME_OF_SCHOOL</th>\n            <th>SAFETY_SCORE</th>\n        </tr>\n    </thead>\n    <tbody>\n    </tbody>\n</table>"
     },
     "execution_count": 37,
     "metadata": {},
     "output_type": "execute_result"
    }
   ],
   "source": [
    "%sql SELECT name_of_school, safety_score \\\n",
    "FROM CHICAGO_PUBLIC_SCHOOLS_DATA  where safety_score !='None' \\\n",
    "ORDER BY safety_score \\\n",
    "LIMIT 5"
   ],
   "metadata": {
    "collapsed": false,
    "ExecuteTime": {
     "end_time": "2024-05-09T13:06:28.133929Z",
     "start_time": "2024-05-09T13:06:28.108474900Z"
    }
   },
   "id": "230e67124f559b46",
   "execution_count": 37
  },
  {
   "cell_type": "markdown",
   "source": [
    "Getting the hardship index for the community area of the school which has College Enrollment of 4368"
   ],
   "metadata": {
    "collapsed": false
   },
   "id": "e61767bbd59f729f"
  },
  {
   "cell_type": "code",
   "outputs": [
    {
     "name": "stdout",
     "output_type": "stream",
     "text": [
      " * sqlite:///RealWorldData.db\n",
      "Done.\n"
     ]
    },
    {
     "data": {
      "text/plain": "[]",
      "text/html": "<table>\n    <thead>\n        <tr>\n            <th>HARDSHIP_INDEX</th>\n        </tr>\n    </thead>\n    <tbody>\n    </tbody>\n</table>"
     },
     "execution_count": 38,
     "metadata": {},
     "output_type": "execute_result"
    }
   ],
   "source": [
    "%%sql \n",
    "select hardship_index from CENSUS_DATA CD, CHICAGO_PUBLIC_SCHOOLS_DATA CPS \n",
    "where CD.community_area_number = CPS.community_area_number \n",
    "and college_enrollment = 4368\n"
   ],
   "metadata": {
    "collapsed": false,
    "ExecuteTime": {
     "end_time": "2024-05-09T13:07:14.649174500Z",
     "start_time": "2024-05-09T13:07:14.607830200Z"
    }
   },
   "id": "e921cf3c6636d801",
   "execution_count": 38
  },
  {
   "cell_type": "markdown",
   "source": [
    "Getting the hardship index for the community area which has the highest value for College Enrollment"
   ],
   "metadata": {
    "collapsed": false
   },
   "id": "61341ecb7bc7d922"
  },
  {
   "cell_type": "code",
   "outputs": [
    {
     "name": "stdout",
     "output_type": "stream",
     "text": [
      " * sqlite:///RealWorldData.db\n",
      "Done.\n"
     ]
    },
    {
     "data": {
      "text/plain": "[]",
      "text/html": "<table>\n    <thead>\n        <tr>\n            <th>COMMUNITY_AREA_NUMBER</th>\n            <th>COMMUNITY_AREA_NAME</th>\n            <th>HARDSHIP_INDEX</th>\n        </tr>\n    </thead>\n    <tbody>\n    </tbody>\n</table>"
     },
     "execution_count": 39,
     "metadata": {},
     "output_type": "execute_result"
    }
   ],
   "source": [
    "%sql select community_area_number, community_area_name, hardship_index from CENSUS_DATA \\\n",
    "   where community_area_number in \\\n",
    "   ( select community_area_number from CHICAGO_PUBLIC_SCHOOLS_DATA order by college_enrollment desc limit 1 )"
   ],
   "metadata": {
    "collapsed": false,
    "ExecuteTime": {
     "end_time": "2024-05-09T13:07:55.385632500Z",
     "start_time": "2024-05-09T13:07:55.353875300Z"
    }
   },
   "id": "c476b7a37688beea",
   "execution_count": 39
  },
  {
   "cell_type": "code",
   "outputs": [],
   "source": [],
   "metadata": {
    "collapsed": false
   },
   "id": "cda895e27c759a70"
  }
 ],
 "metadata": {
  "kernelspec": {
   "display_name": "Python 3",
   "language": "python",
   "name": "python3"
  },
  "language_info": {
   "codemirror_mode": {
    "name": "ipython",
    "version": 2
   },
   "file_extension": ".py",
   "mimetype": "text/x-python",
   "name": "python",
   "nbconvert_exporter": "python",
   "pygments_lexer": "ipython2",
   "version": "2.7.6"
  }
 },
 "nbformat": 4,
 "nbformat_minor": 5
}
